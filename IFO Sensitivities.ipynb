{
 "cells": [
  {
   "cell_type": "code",
   "execution_count": 1,
   "metadata": {
    "collapsed": false
   },
   "outputs": [],
   "source": [
    "import matplotlib.pyplot as plt\n",
    "import numpy as np"
   ]
  },
  {
   "cell_type": "code",
   "execution_count": 2,
   "metadata": {
    "collapsed": false
   },
   "outputs": [],
   "source": [
    "import astropy.units as u\n",
    "import astropy.constants as c"
   ]
  },
  {
   "cell_type": "code",
   "execution_count": 3,
   "metadata": {
    "collapsed": false
   },
   "outputs": [],
   "source": [
    "%matplotlib inline"
   ]
  },
  {
   "cell_type": "code",
   "execution_count": 4,
   "metadata": {
    "collapsed": false
   },
   "outputs": [],
   "source": [
    "class Source():\n",
    "    \"\"\"\n",
    "    The base class for a gravitational wave source.\n",
    "    \"\"\"\n",
    "    name = \"Generic Source\"\n",
    "    frequencies =  np.linspace(0, 1e5, 10000) * u.hertz\n",
    "    M = 30 * u.solMass\n",
    "    r = 300 * u.parsec\n",
    "    \n",
    "    def __init__(self, frequencies=None, M=None, r=None):\n",
    "        if frequencies: self.frequencies = frequencies\n",
    "        if r: self.r = r\n",
    "        if M: self.M = M\n",
    "      \n",
    "    def raw_strain(self, frequencies):\n",
    "        return ((1./r) * ((5*np.pi)/(24*c.c**3))**(0.5) * (c.G * M)**(5./6) * (np.pi*frequencies)**(-7./6)).to(1/u.hertz)\n",
    "    \n",
    "    def characteristic_strain(self, frequencies):\n",
    "        return np.sqrt(4 * frequencies**2 * np.abs(self.raw_strain(frequencies))**2)\n",
    "    \n",
    "    def plot(self, axis):\n",
    "        if axis: \n",
    "            axis.loglog(self.frequencies, self.characteristic_strain(self.frequencies), label=self.name, lw=2)\n",
    "            axis.set_xlabel('Frequency [Hz]')\n",
    "            #axis.set_ylabel('Root Noise Power spectral density')\n",
    "            axis.legend()"
   ]
  },
  {
   "cell_type": "code",
   "execution_count": 5,
   "metadata": {
    "collapsed": true
   },
   "outputs": [],
   "source": [
    "class Interferometer():\n",
    "    \"\"\"\n",
    "    The base class to describe an interferometer.\n",
    "    \"\"\"\n",
    "    name = \"Generic Interferometer\"\n",
    "    f0 = 150 * u.hertz\n",
    "    fs = 40 * u.hertz\n",
    "    S0 = 1e-46 / u.hertz\n",
    "    frequencies =  np.linspace(0, 1e5, 10000) * u.hertz\n",
    "    \n",
    "    def __init__(self, frequencies=None):\n",
    "        if frequencies: self.frequencies = frequencies\n",
    "    \n",
    "    def noise_spectrum(self, x):\n",
    "        return (3.4*x)**(-30) + 34*x**(-1) + (20 * (1 - x**2 + 0.4*x**4))/(1 + 0.5*x**2)\n",
    "    \n",
    "    def psd(self, frequencies):\n",
    "        x = frequencies / self.f0\n",
    "        xs = self.fs / self.f0\n",
    "        sh = self.noise_spectrum(x)\n",
    "        sh[frequencies<self.fs]=np.nan\n",
    "        return sh * self.S0\n",
    "    \n",
    "    def srpsd(self, frequencies):\n",
    "        return np.sqrt(self.psd(frequencies))\n",
    "    \n",
    "    def noise_amplitude(self, frequencies):\n",
    "        return np.sqrt(self.frequencies*self.psd(frequencies))\n",
    "    \n",
    "    def plot(self, axis):\n",
    "        if axis: \n",
    "            axis.loglog(self.frequencies, self.noise_amplitude(self.frequencies), label=self.name, lw=2)\n",
    "            axis.set_xlabel('Frequency [Hz]')\n",
    "            axis.set_ylabel('Root Noise Power spectral density')\n",
    "            axis.legend()"
   ]
  },
  {
   "cell_type": "code",
   "execution_count": 6,
   "metadata": {
    "collapsed": true
   },
   "outputs": [],
   "source": [
    "class GEO(Interferometer):\n",
    "    \"\"\"\n",
    "    The GEO600 Interferometer\n",
    "    \"\"\"\n",
    "    name = \"GEO600\"\n",
    "    f0 = 150 * u.hertz\n",
    "    fs = 40 * u.hertz\n",
    "    S0 = 1e-46 / u.hertz\n",
    "    \n",
    "    def noise_spectrum(self, x):\n",
    "        return (3.4*x)**(-30) + 34*x**(-1) + (20 * (1 - x**2 + 0.4*x**4))/(1 + 0.5*x**2)"
   ]
  },
  {
   "cell_type": "code",
   "execution_count": 7,
   "metadata": {
    "collapsed": true
   },
   "outputs": [],
   "source": [
    "class InitialLIGO(Interferometer):\n",
    "    \"\"\"\n",
    "    The iLIGO Interferometer\n",
    "    \"\"\"\n",
    "    name = \"Initial LIGO\"\n",
    "    f0 = 150 * u.hertz\n",
    "    fs = 40 * u.hertz\n",
    "    S0 = 9e-46 / u.hertz\n",
    "    \n",
    "    def noise_spectrum(self, x):\n",
    "        return (4.49*x)**(-56) + 0.16*x**(-4.52) + 0.52 + 0.32*x**2"
   ]
  },
  {
   "cell_type": "code",
   "execution_count": 8,
   "metadata": {
    "collapsed": true
   },
   "outputs": [],
   "source": [
    "class TAMA(Interferometer):\n",
    "    \"\"\"\n",
    "    The TAMA Interferometer\n",
    "    \"\"\"\n",
    "    name = \"TAMA\"\n",
    "    f0 = 400 * u.hertz\n",
    "    fs = 75 * u.hertz\n",
    "    S0 = 7.5e-46 / u.hertz\n",
    "    \n",
    "    def noise_spectrum(self, x):\n",
    "        return x**(-5) + 13*x**-1 + 9*(1+x**2)"
   ]
  },
  {
   "cell_type": "code",
   "execution_count": 9,
   "metadata": {
    "collapsed": true
   },
   "outputs": [],
   "source": [
    "class VIRGO(Interferometer):\n",
    "    \"\"\"\n",
    "    The VIRGO Interferometer\n",
    "    \"\"\"\n",
    "    name = \"VIRGO\"\n",
    "    f0 = 500 * u.hertz\n",
    "    fs = 20 * u.hertz\n",
    "    S0 = 3.2e-46 / u.hertz\n",
    "    \n",
    "    def noise_spectrum(self, x):\n",
    "        return (7.8*x)**(-5) + 2*x**(-1) + 0.63 + x**2"
   ]
  },
  {
   "cell_type": "code",
   "execution_count": 14,
   "metadata": {
    "collapsed": true
   },
   "outputs": [],
   "source": [
    "class CBC(Source):\n",
    "    \"\"\"\n",
    "    A compact binary coallescence source\n",
    "    \"\"\"\n",
    "    name = \"CBC\"\n",
    "    def raw_strain(self, frequencies):\n",
    "        return ((1./self.r) * ((5*np.pi)/(24*c.c**3))**(0.5) * (c.G * self.M)**(5./6) * (np.pi*frequencies)**(-7./6)).to(1/u.hertz)"
   ]
  },
  {
   "cell_type": "code",
   "execution_count": 15,
   "metadata": {
    "collapsed": true
   },
   "outputs": [],
   "source": [
    "frequencies = np.linspace(0, 1e5, 1000) * u.hertz\n",
    "geo = GEO()\n",
    "iligo = InitialLIGO()\n",
    "tama = TAMA()\n",
    "virgo = VIRGO()"
   ]
  },
  {
   "cell_type": "code",
   "execution_count": 35,
   "metadata": {
    "collapsed": false
   },
   "outputs": [],
   "source": [
    "cbc = CBC(frequencies= np.logspace(1e-4, 1e5, 10000) * u.hertz, M=100*u.solMass, r=300*1e6*u.parsec)"
   ]
  },
  {
   "cell_type": "code",
   "execution_count": null,
   "metadata": {
    "collapsed": true
   },
   "outputs": [],
   "source": [
    "CBC"
   ]
  },
  {
   "cell_type": "code",
   "execution_count": 36,
   "metadata": {
    "collapsed": false
   },
   "outputs": [
    {
     "data": {
      "image/png": "[encoded data removed]",
      "text/plain": [
       "<matplotlib.figure.Figure at 0x7ff0d7b04a90>"
      ]
     },
     "metadata": {},
     "output_type": "display_data"
    }
   ],
   "source": [
    "plt.style.use('ggplot')\n",
    "f, ax = plt.subplots(1, figsize=(10, 4))\n",
    "geo.plot(axis = ax)\n",
    "iligo.plot(ax)\n",
    "tama.plot(ax)\n",
    "virgo.plot(ax)\n",
    "cbc.plot(ax)\n",
    "ax.set_xlim([1e-4,1e5]);\n",
    "ax.set_ylim([1e-23,1e-17]);"
   ]
  },
  {
   "cell_type": "code",
   "execution_count": 35,
   "metadata": {
    "collapsed": true
   },
   "outputs": [],
   "source": [
    "def GEO(frequencies):\n",
    "    f0 = 150 * u.hertz\n",
    "    fs = 40 * u.hertz\n",
    "    S0 = 1e-46 / u.Hertz\n",
    "    \n",
    "    x = frequencies / f0\n",
    "    xs = fs / f0\n",
    "    \n",
    "    sh = (3.4*x)**(-30) + 34*x**(-1) + (20 * (1 - x**2 + 0.4*x**4))/(1 + 0.5*x**2) \n",
    "    sh[frequencies<fs]=np.nan\n",
    "    \n",
    "    return sh * S0"
   ]
  },
  {
   "cell_type": "code",
   "execution_count": 157,
   "metadata": {
    "collapsed": true
   },
   "outputs": [],
   "source": [
    "frequencies = np.linspace(0, 1e5, 1000) * u.hertz"
   ]
  },
  {
   "cell_type": "code",
   "execution_count": 38,
   "metadata": {
    "collapsed": true
   },
   "outputs": [],
   "source": [
    "def cbc_strain(f, M, r):\n",
    "    #return 1.44e-22 * (f/(100.*u.hertz))**(-2.0/3) * (M/(1.22*u.solMass))**(5./3) * ((10*1e6*u.parsec)/r)\n",
    "    return ((1./r) * ((5*np.pi)/(24*c.c**3))**(0.5) * (c.G * M)**(5./6) * (np.pi*f)**(-7./6)).to(1/u.hertz)"
   ]
  },
  {
   "cell_type": "code",
   "execution_count": 46,
   "metadata": {
    "collapsed": false
   },
   "outputs": [
    {
     "data": {
      "text/latex": [
       "$2.801569 \\times 10^{-20} \\; \\mathrm{}$"
      ],
      "text/plain": [
       "<Quantity 2.8015690208126614e-20>"
      ]
     },
     "execution_count": 46,
     "metadata": {},
     "output_type": "execute_result"
    }
   ],
   "source": [
    "(4*(1e-3*u.hertz)**2*np.abs((cbc_strain(1e-3*u.hertz, M, r).to(1/u.hertz))**2))**(0.5)"
   ]
  },
  {
   "cell_type": "code",
   "execution_count": 40,
   "metadata": {
    "collapsed": false
   },
   "outputs": [],
   "source": [
    "M = 30*u.solMass\n",
    "r = 300*1e6*u.parsec"
   ]
  }
 ],
 "metadata": {
  "kernelspec": {
   "display_name": "Python 2",
   "language": "python",
   "name": "python2"
  },
  "language_info": {
   "codemirror_mode": {
    "name": "ipython",
    "version": 2
   },
   "file_extension": ".py",
   "mimetype": "text/x-python",
   "name": "python",
   "nbconvert_exporter": "python",
   "pygments_lexer": "ipython2",
   "version": "2.7.6"
  }
 },
 "nbformat": 4,
 "nbformat_minor": 0
}
